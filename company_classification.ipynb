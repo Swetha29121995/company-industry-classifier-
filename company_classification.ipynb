{
 "cells": [
  {
   "cell_type": "markdown",
   "id": "0c24ca76-ed3c-4e8e-9b11-9e72015e1dbc",
   "metadata": {},
   "source": [
    "## ✅ 1. PACKAGE MANAGEMENT"
   ]
  },
  {
   "cell_type": "code",
   "execution_count": 1,
   "id": "96b3f528-a02c-4b15-9371-4351b91fb2de",
   "metadata": {},
   "outputs": [
    {
     "name": "stdout",
     "output_type": "stream",
     "text": [
      "Collecting numpy==1.24.4\n",
      "  Using cached numpy-1.24.4.tar.gz (10.9 MB)\n",
      "  Installing build dependencies: started\n",
      "  Installing build dependencies: finished with status 'done'\n",
      "  Getting requirements to build wheel: started\n",
      "  Getting requirements to build wheel: finished with status 'error'\n"
     ]
    },
    {
     "name": "stderr",
     "output_type": "stream",
     "text": [
      "  error: subprocess-exited-with-error\n",
      "  \n",
      "  Getting requirements to build wheel did not run successfully.\n",
      "  exit code: 1\n",
      "  \n",
      "  [33 lines of output]\n",
      "  Traceback (most recent call last):\n",
      "    File \"C:\\Users\\srswe\\anaconda3\\Lib\\site-packages\\pip\\_vendor\\pyproject_hooks\\_in_process\\_in_process.py\", line 353, in <module>\n",
      "      main()\n",
      "    File \"C:\\Users\\srswe\\anaconda3\\Lib\\site-packages\\pip\\_vendor\\pyproject_hooks\\_in_process\\_in_process.py\", line 335, in main\n",
      "      json_out['return_val'] = hook(**hook_input['kwargs'])\n",
      "                               ^^^^^^^^^^^^^^^^^^^^^^^^^^^^\n",
      "    File \"C:\\Users\\srswe\\anaconda3\\Lib\\site-packages\\pip\\_vendor\\pyproject_hooks\\_in_process\\_in_process.py\", line 112, in get_requires_for_build_wheel\n",
      "      backend = _build_backend()\n",
      "                ^^^^^^^^^^^^^^^^\n",
      "    File \"C:\\Users\\srswe\\anaconda3\\Lib\\site-packages\\pip\\_vendor\\pyproject_hooks\\_in_process\\_in_process.py\", line 77, in _build_backend\n",
      "      obj = import_module(mod_path)\n",
      "            ^^^^^^^^^^^^^^^^^^^^^^^\n",
      "    File \"C:\\Users\\srswe\\anaconda3\\Lib\\importlib\\__init__.py\", line 90, in import_module\n",
      "      return _bootstrap._gcd_import(name[level:], package, level)\n",
      "             ^^^^^^^^^^^^^^^^^^^^^^^^^^^^^^^^^^^^^^^^^^^^^^^^^^^^\n",
      "    File \"<frozen importlib._bootstrap>\", line 1387, in _gcd_import\n",
      "    File \"<frozen importlib._bootstrap>\", line 1360, in _find_and_load\n",
      "    File \"<frozen importlib._bootstrap>\", line 1310, in _find_and_load_unlocked\n",
      "    File \"<frozen importlib._bootstrap>\", line 488, in _call_with_frames_removed\n",
      "    File \"<frozen importlib._bootstrap>\", line 1387, in _gcd_import\n",
      "    File \"<frozen importlib._bootstrap>\", line 1360, in _find_and_load\n",
      "    File \"<frozen importlib._bootstrap>\", line 1331, in _find_and_load_unlocked\n",
      "    File \"<frozen importlib._bootstrap>\", line 935, in _load_unlocked\n",
      "    File \"<frozen importlib._bootstrap_external>\", line 995, in exec_module\n",
      "    File \"<frozen importlib._bootstrap>\", line 488, in _call_with_frames_removed\n",
      "    File \"C:\\Users\\srswe\\AppData\\Local\\Temp\\pip-build-env-97tc4f4u\\overlay\\Lib\\site-packages\\setuptools\\__init__.py\", line 16, in <module>\n",
      "      import setuptools.version\n",
      "    File \"C:\\Users\\srswe\\AppData\\Local\\Temp\\pip-build-env-97tc4f4u\\overlay\\Lib\\site-packages\\setuptools\\version.py\", line 1, in <module>\n",
      "      import pkg_resources\n",
      "    File \"C:\\Users\\srswe\\AppData\\Local\\Temp\\pip-build-env-97tc4f4u\\overlay\\Lib\\site-packages\\pkg_resources\\__init__.py\", line 2172, in <module>\n",
      "      register_finder(pkgutil.ImpImporter, find_on_path)\n",
      "                      ^^^^^^^^^^^^^^^^^^^\n",
      "  AttributeError: module 'pkgutil' has no attribute 'ImpImporter'. Did you mean: 'zipimporter'?\n",
      "  [end of output]\n",
      "  \n",
      "  note: This error originates from a subprocess, and is likely not a problem with pip.\n",
      "error: subprocess-exited-with-error\n",
      "\n",
      "Getting requirements to build wheel did not run successfully.\n",
      "exit code: 1\n",
      "\n",
      "See above for output.\n",
      "\n",
      "note: This error originates from a subprocess, and is likely not a problem with pip.\n"
     ]
    },
    {
     "name": "stdout",
     "output_type": "stream",
     "text": [
      "Requirement already satisfied: spacy==3.7.2 in c:\\users\\srswe\\anaconda3\\lib\\site-packages (3.7.2)\n",
      "Requirement already satisfied: spacy-legacy<3.1.0,>=3.0.11 in c:\\users\\srswe\\anaconda3\\lib\\site-packages (from spacy==3.7.2) (3.0.12)\n",
      "Requirement already satisfied: spacy-loggers<2.0.0,>=1.0.0 in c:\\users\\srswe\\anaconda3\\lib\\site-packages (from spacy==3.7.2) (1.0.5)\n",
      "Requirement already satisfied: murmurhash<1.1.0,>=0.28.0 in c:\\users\\srswe\\anaconda3\\lib\\site-packages (from spacy==3.7.2) (1.0.13)\n",
      "Requirement already satisfied: cymem<2.1.0,>=2.0.2 in c:\\users\\srswe\\anaconda3\\lib\\site-packages (from spacy==3.7.2) (2.0.11)\n",
      "Requirement already satisfied: preshed<3.1.0,>=3.0.2 in c:\\users\\srswe\\anaconda3\\lib\\site-packages (from spacy==3.7.2) (3.0.10)\n",
      "Requirement already satisfied: thinc<8.3.0,>=8.1.8 in c:\\users\\srswe\\anaconda3\\lib\\site-packages (from spacy==3.7.2) (8.2.5)\n",
      "Requirement already satisfied: wasabi<1.2.0,>=0.9.1 in c:\\users\\srswe\\anaconda3\\lib\\site-packages (from spacy==3.7.2) (1.1.3)\n",
      "Requirement already satisfied: srsly<3.0.0,>=2.4.3 in c:\\users\\srswe\\anaconda3\\lib\\site-packages (from spacy==3.7.2) (2.5.1)\n",
      "Requirement already satisfied: catalogue<2.1.0,>=2.0.6 in c:\\users\\srswe\\anaconda3\\lib\\site-packages (from spacy==3.7.2) (2.0.10)\n",
      "Requirement already satisfied: weasel<0.4.0,>=0.1.0 in c:\\users\\srswe\\anaconda3\\lib\\site-packages (from spacy==3.7.2) (0.3.4)\n",
      "Requirement already satisfied: typer<0.10.0,>=0.3.0 in c:\\users\\srswe\\anaconda3\\lib\\site-packages (from spacy==3.7.2) (0.9.0)\n",
      "Requirement already satisfied: smart-open<7.0.0,>=5.2.1 in c:\\users\\srswe\\anaconda3\\lib\\site-packages (from spacy==3.7.2) (5.2.1)\n",
      "Requirement already satisfied: tqdm<5.0.0,>=4.38.0 in c:\\users\\srswe\\anaconda3\\lib\\site-packages (from spacy==3.7.2) (4.66.5)\n",
      "Requirement already satisfied: requests<3.0.0,>=2.13.0 in c:\\users\\srswe\\anaconda3\\lib\\site-packages (from spacy==3.7.2) (2.32.3)\n",
      "Requirement already satisfied: pydantic!=1.8,!=1.8.1,<3.0.0,>=1.7.4 in c:\\users\\srswe\\anaconda3\\lib\\site-packages (from spacy==3.7.2) (2.8.2)\n",
      "Requirement already satisfied: jinja2 in c:\\users\\srswe\\anaconda3\\lib\\site-packages (from spacy==3.7.2) (3.1.4)\n",
      "Requirement already satisfied: setuptools in c:\\users\\srswe\\anaconda3\\lib\\site-packages (from spacy==3.7.2) (75.1.0)\n",
      "Requirement already satisfied: packaging>=20.0 in c:\\users\\srswe\\anaconda3\\lib\\site-packages (from spacy==3.7.2) (24.1)\n",
      "Requirement already satisfied: langcodes<4.0.0,>=3.2.0 in c:\\users\\srswe\\anaconda3\\lib\\site-packages (from spacy==3.7.2) (3.5.0)\n",
      "Requirement already satisfied: numpy>=1.19.0 in c:\\users\\srswe\\anaconda3\\lib\\site-packages (from spacy==3.7.2) (1.26.4)\n",
      "Requirement already satisfied: language-data>=1.2 in c:\\users\\srswe\\anaconda3\\lib\\site-packages (from langcodes<4.0.0,>=3.2.0->spacy==3.7.2) (1.3.0)\n",
      "Requirement already satisfied: annotated-types>=0.4.0 in c:\\users\\srswe\\anaconda3\\lib\\site-packages (from pydantic!=1.8,!=1.8.1,<3.0.0,>=1.7.4->spacy==3.7.2) (0.6.0)\n",
      "Requirement already satisfied: pydantic-core==2.20.1 in c:\\users\\srswe\\anaconda3\\lib\\site-packages (from pydantic!=1.8,!=1.8.1,<3.0.0,>=1.7.4->spacy==3.7.2) (2.20.1)\n",
      "Requirement already satisfied: typing-extensions>=4.6.1 in c:\\users\\srswe\\anaconda3\\lib\\site-packages (from pydantic!=1.8,!=1.8.1,<3.0.0,>=1.7.4->spacy==3.7.2) (4.14.1)\n",
      "Requirement already satisfied: charset-normalizer<4,>=2 in c:\\users\\srswe\\anaconda3\\lib\\site-packages (from requests<3.0.0,>=2.13.0->spacy==3.7.2) (3.3.2)\n",
      "Requirement already satisfied: idna<4,>=2.5 in c:\\users\\srswe\\anaconda3\\lib\\site-packages (from requests<3.0.0,>=2.13.0->spacy==3.7.2) (3.7)\n",
      "Requirement already satisfied: urllib3<3,>=1.21.1 in c:\\users\\srswe\\anaconda3\\lib\\site-packages (from requests<3.0.0,>=2.13.0->spacy==3.7.2) (2.5.0)\n",
      "Requirement already satisfied: certifi>=2017.4.17 in c:\\users\\srswe\\anaconda3\\lib\\site-packages (from requests<3.0.0,>=2.13.0->spacy==3.7.2) (2025.6.15)\n",
      "Requirement already satisfied: blis<0.8.0,>=0.7.8 in c:\\users\\srswe\\anaconda3\\lib\\site-packages (from thinc<8.3.0,>=8.1.8->spacy==3.7.2) (0.7.11)\n",
      "Requirement already satisfied: confection<1.0.0,>=0.0.1 in c:\\users\\srswe\\anaconda3\\lib\\site-packages (from thinc<8.3.0,>=8.1.8->spacy==3.7.2) (0.1.5)\n",
      "Requirement already satisfied: colorama in c:\\users\\srswe\\anaconda3\\lib\\site-packages (from tqdm<5.0.0,>=4.38.0->spacy==3.7.2) (0.4.6)\n",
      "Requirement already satisfied: click<9.0.0,>=7.1.1 in c:\\users\\srswe\\anaconda3\\lib\\site-packages (from typer<0.10.0,>=0.3.0->spacy==3.7.2) (8.1.7)\n",
      "Requirement already satisfied: cloudpathlib<0.17.0,>=0.7.0 in c:\\users\\srswe\\anaconda3\\lib\\site-packages (from weasel<0.4.0,>=0.1.0->spacy==3.7.2) (0.16.0)\n",
      "Requirement already satisfied: MarkupSafe>=2.0 in c:\\users\\srswe\\anaconda3\\lib\\site-packages (from jinja2->spacy==3.7.2) (2.1.3)\n",
      "Requirement already satisfied: marisa-trie>=1.1.0 in c:\\users\\srswe\\anaconda3\\lib\\site-packages (from language-data>=1.2->langcodes<4.0.0,>=3.2.0->spacy==3.7.2) (1.2.1)\n",
      "Collecting en-core-web-sm==3.7.1\n",
      "  Downloading https://github.com/explosion/spacy-models/releases/download/en_core_web_sm-3.7.1/en_core_web_sm-3.7.1-py3-none-any.whl (12.8 MB)\n",
      "     ---------------------------------------- 0.0/12.8 MB ? eta -:--:--\n",
      "      --------------------------------------- 0.3/12.8 MB ? eta -:--:--\n",
      "     -- ------------------------------------- 0.8/12.8 MB 2.4 MB/s eta 0:00:06\n",
      "     ---- ----------------------------------- 1.3/12.8 MB 2.3 MB/s eta 0:00:05\n",
      "     ----- ---------------------------------- 1.8/12.8 MB 2.4 MB/s eta 0:00:05\n",
      "     -------- ------------------------------- 2.6/12.8 MB 2.5 MB/s eta 0:00:05\n",
      "     --------- ------------------------------ 3.1/12.8 MB 2.6 MB/s eta 0:00:04\n",
      "     ------------ --------------------------- 3.9/12.8 MB 2.7 MB/s eta 0:00:04\n",
      "     ------------- -------------------------- 4.5/12.8 MB 2.7 MB/s eta 0:00:04\n",
      "     ---------------- ----------------------- 5.2/12.8 MB 2.8 MB/s eta 0:00:03\n",
      "     ------------------ --------------------- 6.0/12.8 MB 2.9 MB/s eta 0:00:03\n",
      "     --------------------- ------------------ 6.8/12.8 MB 3.0 MB/s eta 0:00:03\n",
      "     ---------------------- ----------------- 7.3/12.8 MB 2.9 MB/s eta 0:00:02\n",
      "     ------------------------- -------------- 8.1/12.8 MB 3.0 MB/s eta 0:00:02\n",
      "     --------------------------- ------------ 8.9/12.8 MB 3.0 MB/s eta 0:00:02\n",
      "     ------------------------------ --------- 9.7/12.8 MB 3.0 MB/s eta 0:00:02\n",
      "     ------------------------------- -------- 10.2/12.8 MB 3.0 MB/s eta 0:00:01\n",
      "     ---------------------------------- ----- 11.0/12.8 MB 3.1 MB/s eta 0:00:01\n",
      "     ------------------------------------ --- 11.8/12.8 MB 3.1 MB/s eta 0:00:01\n",
      "     ---------------------------------------  12.6/12.8 MB 3.1 MB/s eta 0:00:01\n",
      "     ---------------------------------------- 12.8/12.8 MB 3.0 MB/s eta 0:00:00\n",
      "Requirement already satisfied: spacy<3.8.0,>=3.7.2 in c:\\users\\srswe\\anaconda3\\lib\\site-packages (from en-core-web-sm==3.7.1) (3.7.2)\n",
      "Requirement already satisfied: spacy-legacy<3.1.0,>=3.0.11 in c:\\users\\srswe\\anaconda3\\lib\\site-packages (from spacy<3.8.0,>=3.7.2->en-core-web-sm==3.7.1) (3.0.12)\n",
      "Requirement already satisfied: spacy-loggers<2.0.0,>=1.0.0 in c:\\users\\srswe\\anaconda3\\lib\\site-packages (from spacy<3.8.0,>=3.7.2->en-core-web-sm==3.7.1) (1.0.5)\n",
      "Requirement already satisfied: murmurhash<1.1.0,>=0.28.0 in c:\\users\\srswe\\anaconda3\\lib\\site-packages (from spacy<3.8.0,>=3.7.2->en-core-web-sm==3.7.1) (1.0.13)\n",
      "Requirement already satisfied: cymem<2.1.0,>=2.0.2 in c:\\users\\srswe\\anaconda3\\lib\\site-packages (from spacy<3.8.0,>=3.7.2->en-core-web-sm==3.7.1) (2.0.11)\n",
      "Requirement already satisfied: preshed<3.1.0,>=3.0.2 in c:\\users\\srswe\\anaconda3\\lib\\site-packages (from spacy<3.8.0,>=3.7.2->en-core-web-sm==3.7.1) (3.0.10)\n",
      "Requirement already satisfied: thinc<8.3.0,>=8.1.8 in c:\\users\\srswe\\anaconda3\\lib\\site-packages (from spacy<3.8.0,>=3.7.2->en-core-web-sm==3.7.1) (8.2.5)\n",
      "Requirement already satisfied: wasabi<1.2.0,>=0.9.1 in c:\\users\\srswe\\anaconda3\\lib\\site-packages (from spacy<3.8.0,>=3.7.2->en-core-web-sm==3.7.1) (1.1.3)\n",
      "Requirement already satisfied: srsly<3.0.0,>=2.4.3 in c:\\users\\srswe\\anaconda3\\lib\\site-packages (from spacy<3.8.0,>=3.7.2->en-core-web-sm==3.7.1) (2.5.1)\n",
      "Requirement already satisfied: catalogue<2.1.0,>=2.0.6 in c:\\users\\srswe\\anaconda3\\lib\\site-packages (from spacy<3.8.0,>=3.7.2->en-core-web-sm==3.7.1) (2.0.10)\n",
      "Requirement already satisfied: weasel<0.4.0,>=0.1.0 in c:\\users\\srswe\\anaconda3\\lib\\site-packages (from spacy<3.8.0,>=3.7.2->en-core-web-sm==3.7.1) (0.3.4)\n",
      "Requirement already satisfied: typer<0.10.0,>=0.3.0 in c:\\users\\srswe\\anaconda3\\lib\\site-packages (from spacy<3.8.0,>=3.7.2->en-core-web-sm==3.7.1) (0.9.0)\n",
      "Requirement already satisfied: smart-open<7.0.0,>=5.2.1 in c:\\users\\srswe\\anaconda3\\lib\\site-packages (from spacy<3.8.0,>=3.7.2->en-core-web-sm==3.7.1) (5.2.1)\n",
      "Requirement already satisfied: tqdm<5.0.0,>=4.38.0 in c:\\users\\srswe\\anaconda3\\lib\\site-packages (from spacy<3.8.0,>=3.7.2->en-core-web-sm==3.7.1) (4.66.5)\n",
      "Requirement already satisfied: requests<3.0.0,>=2.13.0 in c:\\users\\srswe\\anaconda3\\lib\\site-packages (from spacy<3.8.0,>=3.7.2->en-core-web-sm==3.7.1) (2.32.3)\n",
      "Requirement already satisfied: pydantic!=1.8,!=1.8.1,<3.0.0,>=1.7.4 in c:\\users\\srswe\\anaconda3\\lib\\site-packages (from spacy<3.8.0,>=3.7.2->en-core-web-sm==3.7.1) (2.8.2)\n",
      "Requirement already satisfied: jinja2 in c:\\users\\srswe\\anaconda3\\lib\\site-packages (from spacy<3.8.0,>=3.7.2->en-core-web-sm==3.7.1) (3.1.4)\n",
      "Requirement already satisfied: setuptools in c:\\users\\srswe\\anaconda3\\lib\\site-packages (from spacy<3.8.0,>=3.7.2->en-core-web-sm==3.7.1) (75.1.0)\n",
      "Requirement already satisfied: packaging>=20.0 in c:\\users\\srswe\\anaconda3\\lib\\site-packages (from spacy<3.8.0,>=3.7.2->en-core-web-sm==3.7.1) (24.1)\n",
      "Requirement already satisfied: langcodes<4.0.0,>=3.2.0 in c:\\users\\srswe\\anaconda3\\lib\\site-packages (from spacy<3.8.0,>=3.7.2->en-core-web-sm==3.7.1) (3.5.0)\n",
      "Requirement already satisfied: numpy>=1.19.0 in c:\\users\\srswe\\anaconda3\\lib\\site-packages (from spacy<3.8.0,>=3.7.2->en-core-web-sm==3.7.1) (1.26.4)\n",
      "Requirement already satisfied: language-data>=1.2 in c:\\users\\srswe\\anaconda3\\lib\\site-packages (from langcodes<4.0.0,>=3.2.0->spacy<3.8.0,>=3.7.2->en-core-web-sm==3.7.1) (1.3.0)\n",
      "Requirement already satisfied: annotated-types>=0.4.0 in c:\\users\\srswe\\anaconda3\\lib\\site-packages (from pydantic!=1.8,!=1.8.1,<3.0.0,>=1.7.4->spacy<3.8.0,>=3.7.2->en-core-web-sm==3.7.1) (0.6.0)\n",
      "Requirement already satisfied: pydantic-core==2.20.1 in c:\\users\\srswe\\anaconda3\\lib\\site-packages (from pydantic!=1.8,!=1.8.1,<3.0.0,>=1.7.4->spacy<3.8.0,>=3.7.2->en-core-web-sm==3.7.1) (2.20.1)\n",
      "Requirement already satisfied: typing-extensions>=4.6.1 in c:\\users\\srswe\\anaconda3\\lib\\site-packages (from pydantic!=1.8,!=1.8.1,<3.0.0,>=1.7.4->spacy<3.8.0,>=3.7.2->en-core-web-sm==3.7.1) (4.14.1)\n",
      "Requirement already satisfied: charset-normalizer<4,>=2 in c:\\users\\srswe\\anaconda3\\lib\\site-packages (from requests<3.0.0,>=2.13.0->spacy<3.8.0,>=3.7.2->en-core-web-sm==3.7.1) (3.3.2)\n",
      "Requirement already satisfied: idna<4,>=2.5 in c:\\users\\srswe\\anaconda3\\lib\\site-packages (from requests<3.0.0,>=2.13.0->spacy<3.8.0,>=3.7.2->en-core-web-sm==3.7.1) (3.7)\n",
      "Requirement already satisfied: urllib3<3,>=1.21.1 in c:\\users\\srswe\\anaconda3\\lib\\site-packages (from requests<3.0.0,>=2.13.0->spacy<3.8.0,>=3.7.2->en-core-web-sm==3.7.1) (2.5.0)\n",
      "Requirement already satisfied: certifi>=2017.4.17 in c:\\users\\srswe\\anaconda3\\lib\\site-packages (from requests<3.0.0,>=2.13.0->spacy<3.8.0,>=3.7.2->en-core-web-sm==3.7.1) (2025.6.15)\n",
      "Requirement already satisfied: blis<0.8.0,>=0.7.8 in c:\\users\\srswe\\anaconda3\\lib\\site-packages (from thinc<8.3.0,>=8.1.8->spacy<3.8.0,>=3.7.2->en-core-web-sm==3.7.1) (0.7.11)\n",
      "Requirement already satisfied: confection<1.0.0,>=0.0.1 in c:\\users\\srswe\\anaconda3\\lib\\site-packages (from thinc<8.3.0,>=8.1.8->spacy<3.8.0,>=3.7.2->en-core-web-sm==3.7.1) (0.1.5)\n",
      "Requirement already satisfied: colorama in c:\\users\\srswe\\anaconda3\\lib\\site-packages (from tqdm<5.0.0,>=4.38.0->spacy<3.8.0,>=3.7.2->en-core-web-sm==3.7.1) (0.4.6)\n",
      "Requirement already satisfied: click<9.0.0,>=7.1.1 in c:\\users\\srswe\\anaconda3\\lib\\site-packages (from typer<0.10.0,>=0.3.0->spacy<3.8.0,>=3.7.2->en-core-web-sm==3.7.1) (8.1.7)\n",
      "Requirement already satisfied: cloudpathlib<0.17.0,>=0.7.0 in c:\\users\\srswe\\anaconda3\\lib\\site-packages (from weasel<0.4.0,>=0.1.0->spacy<3.8.0,>=3.7.2->en-core-web-sm==3.7.1) (0.16.0)\n",
      "Requirement already satisfied: MarkupSafe>=2.0 in c:\\users\\srswe\\anaconda3\\lib\\site-packages (from jinja2->spacy<3.8.0,>=3.7.2->en-core-web-sm==3.7.1) (2.1.3)\n",
      "Requirement already satisfied: marisa-trie>=1.1.0 in c:\\users\\srswe\\anaconda3\\lib\\site-packages (from language-data>=1.2->langcodes<4.0.0,>=3.2.0->spacy<3.8.0,>=3.7.2->en-core-web-sm==3.7.1) (1.2.1)\n",
      "\u001b[38;5;2m[+] Download and installation successful\u001b[0m\n",
      "You can now load the package via spacy.load('en_core_web_sm')\n"
     ]
    }
   ],
   "source": [
    "!pip install numpy==1.24.4\n",
    "!pip install spacy==3.7.2\n",
    "!python -m spacy download en_core_web_sm"
   ]
  },
  {
   "cell_type": "markdown",
   "id": "eed1ae34-d692-4bd6-af0c-5b6a31e950d2",
   "metadata": {},
   "source": [
    "## DATA LOADING"
   ]
  },
  {
   "cell_type": "code",
   "execution_count": 2,
   "id": "62e77102-1d48-410f-8ac8-4933484c002e",
   "metadata": {},
   "outputs": [
    {
     "data": {
      "text/html": [
       "<div>\n",
       "<style scoped>\n",
       "    .dataframe tbody tr th:only-of-type {\n",
       "        vertical-align: middle;\n",
       "    }\n",
       "\n",
       "    .dataframe tbody tr th {\n",
       "        vertical-align: top;\n",
       "    }\n",
       "\n",
       "    .dataframe thead th {\n",
       "        text-align: right;\n",
       "    }\n",
       "</style>\n",
       "<table border=\"1\" class=\"dataframe\">\n",
       "  <thead>\n",
       "    <tr style=\"text-align: right;\">\n",
       "      <th></th>\n",
       "      <th>Company Name</th>\n",
       "      <th>Website</th>\n",
       "      <th>Description</th>\n",
       "      <th>Industry</th>\n",
       "      <th>Location</th>\n",
       "    </tr>\n",
       "  </thead>\n",
       "  <tbody>\n",
       "    <tr>\n",
       "      <th>0</th>\n",
       "      <td>Prime Holdings</td>\n",
       "      <td>https://www.primeholdings.com</td>\n",
       "      <td>We offer high-quality products in the mining &amp;...</td>\n",
       "      <td>Mining &amp; Metals</td>\n",
       "      <td>Toronto, India</td>\n",
       "    </tr>\n",
       "    <tr>\n",
       "      <th>1</th>\n",
       "      <td>Bright Farms</td>\n",
       "      <td>https://www.brightfarms.com</td>\n",
       "      <td>Specializing in innovative solutions for the i...</td>\n",
       "      <td>IT Services</td>\n",
       "      <td>Amsterdam, France</td>\n",
       "    </tr>\n",
       "    <tr>\n",
       "      <th>2</th>\n",
       "      <td>Eco Holdings</td>\n",
       "      <td>https://www.ecoholdings.com</td>\n",
       "      <td>Specializing in innovative solutions for the c...</td>\n",
       "      <td>Construction</td>\n",
       "      <td>Berlin, Australia</td>\n",
       "    </tr>\n",
       "    <tr>\n",
       "      <th>3</th>\n",
       "      <td>NextGen Industries</td>\n",
       "      <td>https://www.nextgenindustries.com</td>\n",
       "      <td>We offer high-quality products in the it servi...</td>\n",
       "      <td>IT Services</td>\n",
       "      <td>Amsterdam, UK</td>\n",
       "    </tr>\n",
       "    <tr>\n",
       "      <th>4</th>\n",
       "      <td>Global Consulting</td>\n",
       "      <td>https://www.globalconsulting.com</td>\n",
       "      <td>An established leader in electronics with a st...</td>\n",
       "      <td>Electronics</td>\n",
       "      <td>Mumbai, Netherlands</td>\n",
       "    </tr>\n",
       "  </tbody>\n",
       "</table>\n",
       "</div>"
      ],
      "text/plain": [
       "         Company Name                            Website  \\\n",
       "0      Prime Holdings      https://www.primeholdings.com   \n",
       "1        Bright Farms        https://www.brightfarms.com   \n",
       "2        Eco Holdings        https://www.ecoholdings.com   \n",
       "3  NextGen Industries  https://www.nextgenindustries.com   \n",
       "4   Global Consulting   https://www.globalconsulting.com   \n",
       "\n",
       "                                         Description         Industry  \\\n",
       "0  We offer high-quality products in the mining &...  Mining & Metals   \n",
       "1  Specializing in innovative solutions for the i...      IT Services   \n",
       "2  Specializing in innovative solutions for the c...     Construction   \n",
       "3  We offer high-quality products in the it servi...      IT Services   \n",
       "4  An established leader in electronics with a st...      Electronics   \n",
       "\n",
       "              Location  \n",
       "0       Toronto, India  \n",
       "1    Amsterdam, France  \n",
       "2    Berlin, Australia  \n",
       "3        Amsterdam, UK  \n",
       "4  Mumbai, Netherlands  "
      ]
     },
     "execution_count": 2,
     "metadata": {},
     "output_type": "execute_result"
    }
   ],
   "source": [
    "import pandas as pd\n",
    "import os\n",
    "file_path = os.path.join(\"data\", \"company_dataset.csv\")\n",
    "company_data = pd.read_csv(file_path)\n",
    "company_data.head()"
   ]
  },
  {
   "cell_type": "code",
   "execution_count": 3,
   "id": "2b5f2ca8-d69a-4deb-b912-b2378f0c8ee7",
   "metadata": {},
   "outputs": [
    {
     "data": {
      "text/plain": [
       "(100, 5)"
      ]
     },
     "execution_count": 3,
     "metadata": {},
     "output_type": "execute_result"
    }
   ],
   "source": [
    "company_data.shape"
   ]
  },
  {
   "cell_type": "code",
   "execution_count": 4,
   "id": "8d595b94-960e-4708-b4e9-7ed731d64fcc",
   "metadata": {},
   "outputs": [
    {
     "name": "stdout",
     "output_type": "stream",
     "text": [
      "<class 'pandas.core.frame.DataFrame'>\n",
      "RangeIndex: 100 entries, 0 to 99\n",
      "Data columns (total 5 columns):\n",
      " #   Column        Non-Null Count  Dtype \n",
      "---  ------        --------------  ----- \n",
      " 0   Company Name  100 non-null    object\n",
      " 1   Website       100 non-null    object\n",
      " 2   Description   100 non-null    object\n",
      " 3   Industry      100 non-null    object\n",
      " 4   Location      100 non-null    object\n",
      "dtypes: object(5)\n",
      "memory usage: 4.0+ KB\n"
     ]
    }
   ],
   "source": [
    "company_data.info()"
   ]
  },
  {
   "cell_type": "markdown",
   "id": "17782106-d71c-4980-8acc-876522d7bf34",
   "metadata": {},
   "source": [
    "## DATA PREPROCESSING"
   ]
  },
  {
   "cell_type": "code",
   "execution_count": 5,
   "id": "451424e5-4a21-41f6-8da0-ef86e290a127",
   "metadata": {},
   "outputs": [
    {
     "data": {
      "text/plain": [
       "0       Toronto\n",
       "1     Amsterdam\n",
       "2        Berlin\n",
       "3     Amsterdam\n",
       "4        Mumbai\n",
       "        ...    \n",
       "95     New York\n",
       "96        Paris\n",
       "97       London\n",
       "98       Berlin\n",
       "99       Sydney\n",
       "Name: Location, Length: 100, dtype: object"
      ]
     },
     "execution_count": 5,
     "metadata": {},
     "output_type": "execute_result"
    }
   ],
   "source": [
    "company_data[\"Location\"] = company_data[\"Location\"].apply(lambda x: x.split(\",\")[0].strip())\n",
    "company_data[\"Location\"]"
   ]
  },
  {
   "cell_type": "code",
   "execution_count": 6,
   "id": "63de0f7d-0932-4e7b-8ed7-1fdceaf32f81",
   "metadata": {},
   "outputs": [
    {
     "data": {
      "text/plain": [
       "Location\n",
       "Berlin       14\n",
       "New York     12\n",
       "Toronto      11\n",
       "Amsterdam    10\n",
       "Mumbai       10\n",
       "Tokyo        10\n",
       "Sydney       10\n",
       "Paris        10\n",
       "London        7\n",
       "Singapore     6\n",
       "Name: count, dtype: int64"
      ]
     },
     "execution_count": 6,
     "metadata": {},
     "output_type": "execute_result"
    }
   ],
   "source": [
    "company_data[\"Location\"].value_counts()"
   ]
  },
  {
   "cell_type": "code",
   "execution_count": 7,
   "id": "fdd3290b-253f-427f-8dbc-19def423f33c",
   "metadata": {},
   "outputs": [
    {
     "data": {
      "text/plain": [
       "Industry\n",
       "Healthcare             8\n",
       "Construction           8\n",
       "Textiles               8\n",
       "Electronics            7\n",
       "Education              7\n",
       "IT Services            7\n",
       "Mining & Metals        6\n",
       "Retail                 6\n",
       "Utilities              5\n",
       "Energy                 5\n",
       "Finance                5\n",
       "Aerospace & Defense    4\n",
       "Logistics              4\n",
       "Agriculture            4\n",
       "Chemicals              4\n",
       "Insurance              3\n",
       "Biotechnology          3\n",
       "Automotive             3\n",
       "Food & Beverage        3\n",
       "Name: count, dtype: int64"
      ]
     },
     "execution_count": 7,
     "metadata": {},
     "output_type": "execute_result"
    }
   ],
   "source": [
    "company_data[\"Industry\"].value_counts()"
   ]
  },
  {
   "cell_type": "markdown",
   "id": "af262ea8-4ba7-4292-83a5-64a2e9a97d66",
   "metadata": {},
   "source": [
    "### CLEAN THE COMPANY DESCRIPTIONS"
   ]
  },
  {
   "cell_type": "code",
   "execution_count": 8,
   "id": "4a6da8b8-3053-491c-b582-d584f1681f42",
   "metadata": {},
   "outputs": [
    {
     "data": {
      "text/html": [
       "<div>\n",
       "<style scoped>\n",
       "    .dataframe tbody tr th:only-of-type {\n",
       "        vertical-align: middle;\n",
       "    }\n",
       "\n",
       "    .dataframe tbody tr th {\n",
       "        vertical-align: top;\n",
       "    }\n",
       "\n",
       "    .dataframe thead th {\n",
       "        text-align: right;\n",
       "    }\n",
       "</style>\n",
       "<table border=\"1\" class=\"dataframe\">\n",
       "  <thead>\n",
       "    <tr style=\"text-align: right;\">\n",
       "      <th></th>\n",
       "      <th>Description</th>\n",
       "      <th>clean_description</th>\n",
       "    </tr>\n",
       "  </thead>\n",
       "  <tbody>\n",
       "    <tr>\n",
       "      <th>0</th>\n",
       "      <td>We offer high-quality products in the mining &amp;...</td>\n",
       "      <td>we offer high quality products in the mining m...</td>\n",
       "    </tr>\n",
       "    <tr>\n",
       "      <th>1</th>\n",
       "      <td>Specializing in innovative solutions for the i...</td>\n",
       "      <td>specializing in innovative solutions for the i...</td>\n",
       "    </tr>\n",
       "    <tr>\n",
       "      <th>2</th>\n",
       "      <td>Specializing in innovative solutions for the c...</td>\n",
       "      <td>specializing in innovative solutions for the c...</td>\n",
       "    </tr>\n",
       "    <tr>\n",
       "      <th>3</th>\n",
       "      <td>We offer high-quality products in the it servi...</td>\n",
       "      <td>we offer high quality products in the it servi...</td>\n",
       "    </tr>\n",
       "    <tr>\n",
       "      <th>4</th>\n",
       "      <td>An established leader in electronics with a st...</td>\n",
       "      <td>an established leader in electronics with a st...</td>\n",
       "    </tr>\n",
       "  </tbody>\n",
       "</table>\n",
       "</div>"
      ],
      "text/plain": [
       "                                         Description  \\\n",
       "0  We offer high-quality products in the mining &...   \n",
       "1  Specializing in innovative solutions for the i...   \n",
       "2  Specializing in innovative solutions for the c...   \n",
       "3  We offer high-quality products in the it servi...   \n",
       "4  An established leader in electronics with a st...   \n",
       "\n",
       "                                   clean_description  \n",
       "0  we offer high quality products in the mining m...  \n",
       "1  specializing in innovative solutions for the i...  \n",
       "2  specializing in innovative solutions for the c...  \n",
       "3  we offer high quality products in the it servi...  \n",
       "4  an established leader in electronics with a st...  "
      ]
     },
     "execution_count": 8,
     "metadata": {},
     "output_type": "execute_result"
    }
   ],
   "source": [
    "#Drop duplicates and  null values\n",
    "company_data.drop_duplicates(inplace=True)\n",
    "company_data.dropna(subset=['Description', 'Industry'], inplace=True)\n",
    "\n",
    "\n",
    "import re\n",
    "def clean_text(text):\n",
    "    text = text.lower()                                # Lowercase\n",
    "    text = re.sub(r\"[^a-z\\s]\", \" \", text)              # Remove punctuation and numbers\n",
    "    text = re.sub(r\"\\s+\", \" \", text).strip()           # Remove extra spaces\n",
    "    return text\n",
    "\n",
    "# Apply to Description column\n",
    "company_data[\"clean_description\"] = company_data[\"Description\"].apply(clean_text)\n",
    "\n",
    "# Preview result\n",
    "company_data[[\"Description\", \"clean_description\"]].head(5)\n"
   ]
  },
  {
   "cell_type": "markdown",
   "id": "93b45801-ce92-4421-a7eb-22f52960cff0",
   "metadata": {},
   "source": [
    "### TOKENIZATION & LEMMATIZATION + STOPWORD REMOVAL"
   ]
  },
  {
   "cell_type": "code",
   "execution_count": 9,
   "id": "5aed48c3-a34e-4fd5-aefc-0dec210df040",
   "metadata": {},
   "outputs": [
    {
     "name": "stdout",
     "output_type": "stream",
     "text": [
      "Requirement already satisfied: spacy in c:\\users\\srswe\\anaconda3\\lib\\site-packages (3.7.2)\n",
      "Requirement already satisfied: tqdm in c:\\users\\srswe\\anaconda3\\lib\\site-packages (4.66.5)\n",
      "Requirement already satisfied: spacy-legacy<3.1.0,>=3.0.11 in c:\\users\\srswe\\anaconda3\\lib\\site-packages (from spacy) (3.0.12)\n",
      "Requirement already satisfied: spacy-loggers<2.0.0,>=1.0.0 in c:\\users\\srswe\\anaconda3\\lib\\site-packages (from spacy) (1.0.5)\n",
      "Requirement already satisfied: murmurhash<1.1.0,>=0.28.0 in c:\\users\\srswe\\anaconda3\\lib\\site-packages (from spacy) (1.0.13)\n",
      "Requirement already satisfied: cymem<2.1.0,>=2.0.2 in c:\\users\\srswe\\anaconda3\\lib\\site-packages (from spacy) (2.0.11)\n",
      "Requirement already satisfied: preshed<3.1.0,>=3.0.2 in c:\\users\\srswe\\anaconda3\\lib\\site-packages (from spacy) (3.0.10)\n",
      "Requirement already satisfied: thinc<8.3.0,>=8.1.8 in c:\\users\\srswe\\anaconda3\\lib\\site-packages (from spacy) (8.2.5)\n",
      "Requirement already satisfied: wasabi<1.2.0,>=0.9.1 in c:\\users\\srswe\\anaconda3\\lib\\site-packages (from spacy) (1.1.3)\n",
      "Requirement already satisfied: srsly<3.0.0,>=2.4.3 in c:\\users\\srswe\\anaconda3\\lib\\site-packages (from spacy) (2.5.1)\n",
      "Requirement already satisfied: catalogue<2.1.0,>=2.0.6 in c:\\users\\srswe\\anaconda3\\lib\\site-packages (from spacy) (2.0.10)\n",
      "Requirement already satisfied: weasel<0.4.0,>=0.1.0 in c:\\users\\srswe\\anaconda3\\lib\\site-packages (from spacy) (0.3.4)\n",
      "Requirement already satisfied: typer<0.10.0,>=0.3.0 in c:\\users\\srswe\\anaconda3\\lib\\site-packages (from spacy) (0.9.0)\n",
      "Requirement already satisfied: smart-open<7.0.0,>=5.2.1 in c:\\users\\srswe\\anaconda3\\lib\\site-packages (from spacy) (5.2.1)\n",
      "Requirement already satisfied: requests<3.0.0,>=2.13.0 in c:\\users\\srswe\\anaconda3\\lib\\site-packages (from spacy) (2.32.3)\n",
      "Requirement already satisfied: pydantic!=1.8,!=1.8.1,<3.0.0,>=1.7.4 in c:\\users\\srswe\\anaconda3\\lib\\site-packages (from spacy) (2.8.2)\n",
      "Requirement already satisfied: jinja2 in c:\\users\\srswe\\anaconda3\\lib\\site-packages (from spacy) (3.1.4)\n",
      "Requirement already satisfied: setuptools in c:\\users\\srswe\\anaconda3\\lib\\site-packages (from spacy) (75.1.0)\n",
      "Requirement already satisfied: packaging>=20.0 in c:\\users\\srswe\\anaconda3\\lib\\site-packages (from spacy) (24.1)\n",
      "Requirement already satisfied: langcodes<4.0.0,>=3.2.0 in c:\\users\\srswe\\anaconda3\\lib\\site-packages (from spacy) (3.5.0)\n",
      "Requirement already satisfied: numpy>=1.19.0 in c:\\users\\srswe\\anaconda3\\lib\\site-packages (from spacy) (1.26.4)\n",
      "Requirement already satisfied: colorama in c:\\users\\srswe\\anaconda3\\lib\\site-packages (from tqdm) (0.4.6)\n",
      "Requirement already satisfied: language-data>=1.2 in c:\\users\\srswe\\anaconda3\\lib\\site-packages (from langcodes<4.0.0,>=3.2.0->spacy) (1.3.0)\n",
      "Requirement already satisfied: annotated-types>=0.4.0 in c:\\users\\srswe\\anaconda3\\lib\\site-packages (from pydantic!=1.8,!=1.8.1,<3.0.0,>=1.7.4->spacy) (0.6.0)\n",
      "Requirement already satisfied: pydantic-core==2.20.1 in c:\\users\\srswe\\anaconda3\\lib\\site-packages (from pydantic!=1.8,!=1.8.1,<3.0.0,>=1.7.4->spacy) (2.20.1)\n",
      "Requirement already satisfied: typing-extensions>=4.6.1 in c:\\users\\srswe\\anaconda3\\lib\\site-packages (from pydantic!=1.8,!=1.8.1,<3.0.0,>=1.7.4->spacy) (4.14.1)\n",
      "Requirement already satisfied: charset-normalizer<4,>=2 in c:\\users\\srswe\\anaconda3\\lib\\site-packages (from requests<3.0.0,>=2.13.0->spacy) (3.3.2)\n",
      "Requirement already satisfied: idna<4,>=2.5 in c:\\users\\srswe\\anaconda3\\lib\\site-packages (from requests<3.0.0,>=2.13.0->spacy) (3.7)\n",
      "Requirement already satisfied: urllib3<3,>=1.21.1 in c:\\users\\srswe\\anaconda3\\lib\\site-packages (from requests<3.0.0,>=2.13.0->spacy) (2.5.0)\n",
      "Requirement already satisfied: certifi>=2017.4.17 in c:\\users\\srswe\\anaconda3\\lib\\site-packages (from requests<3.0.0,>=2.13.0->spacy) (2025.6.15)\n",
      "Requirement already satisfied: blis<0.8.0,>=0.7.8 in c:\\users\\srswe\\anaconda3\\lib\\site-packages (from thinc<8.3.0,>=8.1.8->spacy) (0.7.11)\n",
      "Requirement already satisfied: confection<1.0.0,>=0.0.1 in c:\\users\\srswe\\anaconda3\\lib\\site-packages (from thinc<8.3.0,>=8.1.8->spacy) (0.1.5)\n",
      "Requirement already satisfied: click<9.0.0,>=7.1.1 in c:\\users\\srswe\\anaconda3\\lib\\site-packages (from typer<0.10.0,>=0.3.0->spacy) (8.1.7)\n",
      "Requirement already satisfied: cloudpathlib<0.17.0,>=0.7.0 in c:\\users\\srswe\\anaconda3\\lib\\site-packages (from weasel<0.4.0,>=0.1.0->spacy) (0.16.0)\n",
      "Requirement already satisfied: MarkupSafe>=2.0 in c:\\users\\srswe\\anaconda3\\lib\\site-packages (from jinja2->spacy) (2.1.3)\n",
      "Requirement already satisfied: marisa-trie>=1.1.0 in c:\\users\\srswe\\anaconda3\\lib\\site-packages (from language-data>=1.2->langcodes<4.0.0,>=3.2.0->spacy) (1.2.1)\n"
     ]
    }
   ],
   "source": [
    "!pip install spacy tqdm"
   ]
  },
  {
   "cell_type": "code",
   "execution_count": 10,
   "id": "0adfbe29-025c-4598-ba63-52cc71470af8",
   "metadata": {},
   "outputs": [
    {
     "name": "stderr",
     "output_type": "stream",
     "text": [
      "100%|██████████| 100/100 [00:01<00:00, 66.04it/s]\n"
     ]
    },
    {
     "data": {
      "text/html": [
       "<div>\n",
       "<style scoped>\n",
       "    .dataframe tbody tr th:only-of-type {\n",
       "        vertical-align: middle;\n",
       "    }\n",
       "\n",
       "    .dataframe tbody tr th {\n",
       "        vertical-align: top;\n",
       "    }\n",
       "\n",
       "    .dataframe thead th {\n",
       "        text-align: right;\n",
       "    }\n",
       "</style>\n",
       "<table border=\"1\" class=\"dataframe\">\n",
       "  <thead>\n",
       "    <tr style=\"text-align: right;\">\n",
       "      <th></th>\n",
       "      <th>clean_description</th>\n",
       "      <th>tokens</th>\n",
       "    </tr>\n",
       "  </thead>\n",
       "  <tbody>\n",
       "    <tr>\n",
       "      <th>0</th>\n",
       "      <td>we offer high quality products in the mining m...</td>\n",
       "      <td>offer high quality product mining metal industry</td>\n",
       "    </tr>\n",
       "    <tr>\n",
       "      <th>1</th>\n",
       "      <td>specializing in innovative solutions for the i...</td>\n",
       "      <td>specialize innovative solution service sector</td>\n",
       "    </tr>\n",
       "    <tr>\n",
       "      <th>2</th>\n",
       "      <td>specializing in innovative solutions for the c...</td>\n",
       "      <td>specialize innovative solution construction se...</td>\n",
       "    </tr>\n",
       "    <tr>\n",
       "      <th>3</th>\n",
       "      <td>we offer high quality products in the it servi...</td>\n",
       "      <td>offer high quality product service industry</td>\n",
       "    </tr>\n",
       "    <tr>\n",
       "      <th>4</th>\n",
       "      <td>an established leader in electronics with a st...</td>\n",
       "      <td>established leader electronic strong focus sus...</td>\n",
       "    </tr>\n",
       "  </tbody>\n",
       "</table>\n",
       "</div>"
      ],
      "text/plain": [
       "                                   clean_description  \\\n",
       "0  we offer high quality products in the mining m...   \n",
       "1  specializing in innovative solutions for the i...   \n",
       "2  specializing in innovative solutions for the c...   \n",
       "3  we offer high quality products in the it servi...   \n",
       "4  an established leader in electronics with a st...   \n",
       "\n",
       "                                              tokens  \n",
       "0   offer high quality product mining metal industry  \n",
       "1      specialize innovative solution service sector  \n",
       "2  specialize innovative solution construction se...  \n",
       "3        offer high quality product service industry  \n",
       "4  established leader electronic strong focus sus...  "
      ]
     },
     "execution_count": 10,
     "metadata": {},
     "output_type": "execute_result"
    }
   ],
   "source": [
    "import spacy\n",
    "from tqdm import tqdm\n",
    "\n",
    "# Load spaCy English model\n",
    "nlp = spacy.load(\"en_core_web_sm\", disable=[\"ner\", \"parser\"])\n",
    "tqdm.pandas()  # add progress bar\n",
    "\n",
    "# Function: Lemmatize + remove stopwords\n",
    "def tokenize_lemmatize(text):\n",
    "    if not isinstance(text, str):\n",
    "        return \"\"\n",
    "    doc = nlp(text)\n",
    "    return \" \".join([token.lemma_ for token in doc if token.is_alpha and not token.is_stop])\n",
    "\n",
    "# Apply to cleaned description\n",
    "company_data[\"tokens\"] = company_data[\"clean_description\"].progress_apply(tokenize_lemmatize)\n",
    "\n",
    "# Preview result\n",
    "company_data[[\"clean_description\", \"tokens\"]].head()\n"
   ]
  },
  {
   "cell_type": "code",
   "execution_count": 11,
   "id": "bbdafbbb-f4c9-47c1-900e-722d4aada0cd",
   "metadata": {},
   "outputs": [
    {
     "data": {
      "text/plain": [
       "array([15, 12,  5, 12,  7,  2,  4,  7, 14,  2,  6, 17, 10,  0,  4, 11, 17,\n",
       "       14, 12,  5,  7,  6,  7, 10, 16,  6, 15,  1,  5, 12, 11,  4,  1,  8,\n",
       "       11,  5,  0, 12, 13, 13,  2, 17,  5,  8,  3,  1,  0, 16,  8, 16, 11,\n",
       "       16, 18,  6, 16,  8, 11, 15, 15, 17,  5,  7, 17,  5, 18, 12,  8, 10,\n",
       "        3, 13,  9,  6, 18, 14, 12,  6,  9,  7, 18,  3, 16, 14, 15, 17,  7,\n",
       "        9,  9,  9,  1, 11, 17, 18,  4,  5, 15, 17,  6,  0, 11, 11])"
      ]
     },
     "execution_count": 11,
     "metadata": {},
     "output_type": "execute_result"
    }
   ],
   "source": [
    "from sklearn.preprocessing import LabelEncoder\n",
    "\n",
    "le = LabelEncoder()\n",
    "y_encoded= le.fit_transform(company_data['Industry'])\n",
    "y_encoded"
   ]
  },
  {
   "cell_type": "markdown",
   "id": "addb7854-ba3f-4199-b643-5303fbc61ec9",
   "metadata": {},
   "source": [
    "## Why TF-IDF?\n",
    "*Simple, fast, and interpretable\n",
    "*Works well with classic ML models (like Logistic Regression, Naive Bayes)\n",
    "*Captures which words are important per document, not just frequent\n",
    "*No need for millions of rows or GPUs"
   ]
  },
  {
   "cell_type": "code",
   "execution_count": 28,
   "id": "afed73a9-3728-464f-9fad-f7a7e389f891",
   "metadata": {},
   "outputs": [
    {
     "name": "stdout",
     "output_type": "stream",
     "text": [
      "TF-IDF matrix shape: (100, 177)\n"
     ]
    }
   ],
   "source": [
    "from sklearn.feature_extraction.text import TfidfVectorizer\n",
    "\n",
    "tfidf = TfidfVectorizer(ngram_range=(1,2), max_features=1000)\n",
    "vectorized = tfidf.fit_transform(company_data[\"tokens\"])\n",
    "\n",
    "print(\"TF-IDF matrix shape:\", vectorized.shape)"
   ]
  },
  {
   "cell_type": "markdown",
   "id": "8c3ecce7-4dfa-46de-9bf5-735da01c63b6",
   "metadata": {},
   "source": [
    "## SPILT THE DATA FOR TRAINING AND TESTING"
   ]
  },
  {
   "cell_type": "code",
   "execution_count": 29,
   "id": "3c897fd2-628c-4cb7-80e8-5a3a18083a14",
   "metadata": {},
   "outputs": [
    {
     "name": "stdout",
     "output_type": "stream",
     "text": [
      "Train set shape: (80, 177)\n",
      "Test set shape: (20, 177)\n"
     ]
    }
   ],
   "source": [
    "from sklearn.model_selection import train_test_split\n",
    "\n",
    "x = vectorized\n",
    "y = y_encoded\n",
    "\n",
    "x_train, x_test, y_train, y_test = train_test_split(x, y, test_size=0.2, stratify=y, random_state=42)\n",
    "\n",
    "print(\"Train set shape:\", x_train.shape)\n",
    "print(\"Test set shape:\", x_test.shape)\n"
   ]
  },
  {
   "cell_type": "markdown",
   "id": "9ef2634b-049f-4f82-b509-b8195b74fecd",
   "metadata": {},
   "source": [
    "## BALANCE THE IMBALANCE DATA"
   ]
  },
  {
   "cell_type": "code",
   "execution_count": 30,
   "id": "098de36b-aa01-440f-b53a-fcfa9c15c487",
   "metadata": {},
   "outputs": [
    {
     "name": "stdout",
     "output_type": "stream",
     "text": [
      "Before sampling: {0: 3, 1: 3, 2: 2, 3: 2, 4: 3, 5: 7, 6: 6, 7: 6, 8: 4, 9: 4, 10: 2, 11: 7, 12: 6, 13: 2, 14: 3, 15: 5, 16: 5, 17: 6, 18: 4}\n",
      "After sampling : {0: 7, 1: 7, 2: 7, 3: 7, 4: 7, 5: 7, 6: 7, 7: 7, 8: 7, 9: 7, 10: 7, 11: 7, 12: 7, 13: 7, 14: 7, 15: 7, 16: 7, 17: 7, 18: 7}\n"
     ]
    }
   ],
   "source": [
    "from imblearn.over_sampling import RandomOverSampler\n",
    "import numpy as np\n",
    "\n",
    "ros = RandomOverSampler(random_state=42)\n",
    "x_train_resampled, y_train_resampled = ros.fit_resample(x_train, y_train)\n",
    "\n",
    "print(\"Before sampling:\", dict(zip(*np.unique(y_train, return_counts=True))))\n",
    "print(\"After sampling :\", dict(zip(*np.unique(y_train_resampled, return_counts=True))))\n"
   ]
  },
  {
   "cell_type": "markdown",
   "id": "90d8f9c7-df38-45e8-b49d-e673a3c2133e",
   "metadata": {},
   "source": [
    "## EDA & Visualization"
   ]
  },
  {
   "cell_type": "markdown",
   "id": "81ef9c4b-1f41-4d24-8851-4ea1bd3aadef",
   "metadata": {},
   "source": [
    "### Class Distribution (Before/After Oversampling)"
   ]
  },
  {
   "cell_type": "code",
   "execution_count": 31,
   "id": "c0432f45-3ec7-412e-a382-01bdffa4f5ab",
   "metadata": {},
   "outputs": [
    {
     "data": {
      "image/png": "[encoded data removed]",
      "text/plain": [
       "<Figure size 640x480 with 1 Axes>"
      ]
     },
     "metadata": {},
     "output_type": "display_data"
    },
    {
     "data": {
      "image/png": "[encoded data removed]",
      "text/plain": [
       "<Figure size 640x480 with 1 Axes>"
      ]
     },
     "metadata": {},
     "output_type": "display_data"
    }
   ],
   "source": [
    "import seaborn as sns\n",
    "import matplotlib.pyplot as plt\n",
    "\n",
    "# Before oversampling\n",
    "sns.countplot(x=y)\n",
    "plt.title(\"Original Class Distribution\")\n",
    "plt.show()\n",
    "\n",
    "# After oversampling\n",
    "sns.countplot(x=y_train_resampled)\n",
    "plt.title(\"Balanced Training Set\")\n",
    "plt.show()\n"
   ]
  },
  {
   "cell_type": "code",
   "execution_count": null,
   "id": "92bb5097-bd13-42b7-8baf-e5ca6d8687fc",
   "metadata": {},
   "outputs": [],
   "source": []
  },
  {
   "cell_type": "code",
   "execution_count": 32,
   "id": "40fb02f1-ae7c-470b-8f9e-aee8c8738e7a",
   "metadata": {},
   "outputs": [
    {
     "data": {
      "text/plain": [
       "<Axes: title={'center': 'Top 20 TF-IDF Words'}, xlabel='word'>"
      ]
     },
     "execution_count": 32,
     "metadata": {},
     "output_type": "execute_result"
    },
    {
     "data": {
      "image/png": "[encoded data removed]",
      "text/plain": [
       "<Figure size 640x480 with 1 Axes>"
      ]
     },
     "metadata": {},
     "output_type": "display_data"
    }
   ],
   "source": [
    "import numpy as np\n",
    "import pandas as pd\n",
    "\n",
    "# Get word scores\n",
    "feature_names = tfidf.get_feature_names_out()\n",
    "mean_tfidf = np.asarray(x.mean(axis=0)).flatten()\n",
    "\n",
    "# Show top words\n",
    "top_words = pd.DataFrame({\n",
    "    \"word\": feature_names,\n",
    "    \"mean_score\": mean_tfidf\n",
    "}).sort_values(by=\"mean_score\", ascending=False)\n",
    "\n",
    "top_words.head(20).plot.bar(x='word', y='mean_score', title='Top 20 TF-IDF Words')"
   ]
  },
  {
   "cell_type": "markdown",
   "id": "aabad4f0-0fda-4fb4-aae3-0183ee5f9633",
   "metadata": {},
   "source": [
    "## MODEL BUILDING"
   ]
  },
  {
   "cell_type": "code",
   "execution_count": 33,
   "id": "014ee1d2-24c1-4911-a663-203793f925db",
   "metadata": {},
   "outputs": [],
   "source": [
    "#Multiclass Classification SUpervised Model\n",
    "#Because you're using TF-IDF vectors (i.e., sparse, high-dimensional text data), the best-suited models are:\n",
    "#1. Naive Bayes\n",
    "#2.Logistic Regression"
   ]
  },
  {
   "cell_type": "markdown",
   "id": "db38100d-8362-42ae-8796-a0b5c176c80a",
   "metadata": {},
   "source": [
    "### Naive Bayes"
   ]
  },
  {
   "cell_type": "code",
   "execution_count": 34,
   "id": "9ba78508-491d-417e-8cfe-a9cfac0f3c3c",
   "metadata": {},
   "outputs": [
    {
     "name": "stdout",
     "output_type": "stream",
     "text": [
      "Multinomial Naive Bayes\n",
      "Accuracy: 0.75\n",
      "                     precision    recall  f1-score   support\n",
      "\n",
      "Aerospace & Defense       1.00      1.00      1.00         1\n",
      "        Agriculture       0.50      1.00      0.67         1\n",
      "         Automotive       0.00      0.00      0.00         1\n",
      "      Biotechnology       1.00      1.00      1.00         1\n",
      "          Chemicals       0.00      0.00      0.00         1\n",
      "       Construction       1.00      1.00      1.00         1\n",
      "          Education       1.00      1.00      1.00         1\n",
      "        Electronics       1.00      1.00      1.00         1\n",
      "             Energy       1.00      1.00      1.00         1\n",
      "            Finance       0.00      0.00      0.00         1\n",
      "    Food & Beverage       1.00      1.00      1.00         1\n",
      "         Healthcare       1.00      1.00      1.00         1\n",
      "        IT Services       0.25      1.00      0.40         1\n",
      "          Insurance       0.00      0.00      0.00         1\n",
      "          Logistics       0.00      0.00      0.00         1\n",
      "    Mining & Metals       1.00      1.00      1.00         1\n",
      "             Retail       1.00      1.00      1.00         1\n",
      "           Textiles       1.00      1.00      1.00         2\n",
      "          Utilities       1.00      1.00      1.00         1\n",
      "\n",
      "           accuracy                           0.75        20\n",
      "          macro avg       0.67      0.74      0.69        20\n",
      "       weighted avg       0.69      0.75      0.70        20\n",
      "\n"
     ]
    },
    {
     "name": "stderr",
     "output_type": "stream",
     "text": [
      "C:\\Users\\srswe\\anaconda3\\Lib\\site-packages\\sklearn\\metrics\\_classification.py:1531: UndefinedMetricWarning: Precision is ill-defined and being set to 0.0 in labels with no predicted samples. Use `zero_division` parameter to control this behavior.\n",
      "  _warn_prf(average, modifier, f\"{metric.capitalize()} is\", len(result))\n",
      "C:\\Users\\srswe\\anaconda3\\Lib\\site-packages\\sklearn\\metrics\\_classification.py:1531: UndefinedMetricWarning: Precision is ill-defined and being set to 0.0 in labels with no predicted samples. Use `zero_division` parameter to control this behavior.\n",
      "  _warn_prf(average, modifier, f\"{metric.capitalize()} is\", len(result))\n",
      "C:\\Users\\srswe\\anaconda3\\Lib\\site-packages\\sklearn\\metrics\\_classification.py:1531: UndefinedMetricWarning: Precision is ill-defined and being set to 0.0 in labels with no predicted samples. Use `zero_division` parameter to control this behavior.\n",
      "  _warn_prf(average, modifier, f\"{metric.capitalize()} is\", len(result))\n"
     ]
    }
   ],
   "source": [
    "from sklearn.naive_bayes import MultinomialNB\n",
    "from sklearn.metrics import accuracy_score\n",
    "from sklearn.metrics import classification_report\n",
    "\n",
    "nb_model = MultinomialNB()\n",
    "nb_model.fit(x_train_resampled, y_train_resampled)\n",
    "\n",
    "y_nb_pred = nb_model.predict(x_test)\n",
    "\n",
    "print(\"Multinomial Naive Bayes\")\n",
    "print(\"Accuracy:\", accuracy_score(y_test, y_nb_pred))\n",
    "print(classification_report(y_test, y_nb_pred, target_names=le.classes_))\n"
   ]
  },
  {
   "cell_type": "markdown",
   "id": "b4107447-4a17-41b1-ae8d-ab9f01376cfe",
   "metadata": {},
   "source": [
    "### Logistic Regression:"
   ]
  },
  {
   "cell_type": "code",
   "execution_count": 35,
   "id": "9e101cca-bc71-4d48-9e4d-d1f14435f44a",
   "metadata": {},
   "outputs": [
    {
     "name": "stdout",
     "output_type": "stream",
     "text": [
      "Logistic Regression\n",
      "Accuracy: 0.8\n",
      "                     precision    recall  f1-score   support\n",
      "\n",
      "Aerospace & Defense       1.00      1.00      1.00         1\n",
      "        Agriculture       1.00      1.00      1.00         1\n",
      "         Automotive       0.00      0.00      0.00         1\n",
      "      Biotechnology       1.00      1.00      1.00         1\n",
      "          Chemicals       0.00      0.00      0.00         1\n",
      "       Construction       1.00      1.00      1.00         1\n",
      "          Education       1.00      1.00      1.00         1\n",
      "        Electronics       1.00      1.00      1.00         1\n",
      "             Energy       1.00      1.00      1.00         1\n",
      "            Finance       0.00      0.00      0.00         1\n",
      "    Food & Beverage       1.00      1.00      1.00         1\n",
      "         Healthcare       1.00      1.00      1.00         1\n",
      "        IT Services       0.33      1.00      0.50         1\n",
      "          Insurance       0.00      0.00      0.00         1\n",
      "          Logistics       1.00      1.00      1.00         1\n",
      "    Mining & Metals       1.00      1.00      1.00         1\n",
      "             Retail       1.00      1.00      1.00         1\n",
      "           Textiles       0.67      1.00      0.80         2\n",
      "          Utilities       1.00      1.00      1.00         1\n",
      "\n",
      "           accuracy                           0.80        20\n",
      "          macro avg       0.74      0.79      0.75        20\n",
      "       weighted avg       0.73      0.80      0.76        20\n",
      "\n"
     ]
    },
    {
     "name": "stderr",
     "output_type": "stream",
     "text": [
      "C:\\Users\\srswe\\anaconda3\\Lib\\site-packages\\sklearn\\metrics\\_classification.py:1531: UndefinedMetricWarning: Precision is ill-defined and being set to 0.0 in labels with no predicted samples. Use `zero_division` parameter to control this behavior.\n",
      "  _warn_prf(average, modifier, f\"{metric.capitalize()} is\", len(result))\n",
      "C:\\Users\\srswe\\anaconda3\\Lib\\site-packages\\sklearn\\metrics\\_classification.py:1531: UndefinedMetricWarning: Precision is ill-defined and being set to 0.0 in labels with no predicted samples. Use `zero_division` parameter to control this behavior.\n",
      "  _warn_prf(average, modifier, f\"{metric.capitalize()} is\", len(result))\n",
      "C:\\Users\\srswe\\anaconda3\\Lib\\site-packages\\sklearn\\metrics\\_classification.py:1531: UndefinedMetricWarning: Precision is ill-defined and being set to 0.0 in labels with no predicted samples. Use `zero_division` parameter to control this behavior.\n",
      "  _warn_prf(average, modifier, f\"{metric.capitalize()} is\", len(result))\n"
     ]
    }
   ],
   "source": [
    "from sklearn.linear_model import LogisticRegression\n",
    "\n",
    "lr_model = LogisticRegression(max_iter=1000)\n",
    "lr_model.fit(x_train_resampled, y_train_resampled)\n",
    "y_lr_pred = lr_model.predict(x_test)\n",
    "\n",
    "print(\"Logistic Regression\")\n",
    "print(\"Accuracy:\", accuracy_score(y_test, y_lr_pred))\n",
    "print(classification_report(y_test, y_lr_pred, target_names=le.classes_))\n"
   ]
  },
  {
   "cell_type": "markdown",
   "id": "31ad288a-3c1b-4976-be02-fc2f0aaa307d",
   "metadata": {},
   "source": [
    "### SVM"
   ]
  },
  {
   "cell_type": "code",
   "execution_count": 41,
   "id": "0c96e059-e346-45a6-8ee4-a826624b7286",
   "metadata": {},
   "outputs": [
    {
     "name": "stdout",
     "output_type": "stream",
     "text": [
      "Support Vector Machine\n",
      "Accuracy: 1.0\n",
      "                     precision    recall  f1-score   support\n",
      "\n",
      "Aerospace & Defense       1.00      1.00      1.00         1\n",
      "        Agriculture       1.00      1.00      1.00         1\n",
      "         Automotive       1.00      1.00      1.00         1\n",
      "      Biotechnology       1.00      1.00      1.00         1\n",
      "          Chemicals       1.00      1.00      1.00         1\n",
      "       Construction       1.00      1.00      1.00         1\n",
      "          Education       1.00      1.00      1.00         1\n",
      "        Electronics       1.00      1.00      1.00         1\n",
      "             Energy       1.00      1.00      1.00         1\n",
      "            Finance       1.00      1.00      1.00         1\n",
      "    Food & Beverage       1.00      1.00      1.00         1\n",
      "         Healthcare       1.00      1.00      1.00         1\n",
      "        IT Services       1.00      1.00      1.00         1\n",
      "          Insurance       1.00      1.00      1.00         1\n",
      "          Logistics       1.00      1.00      1.00         1\n",
      "    Mining & Metals       1.00      1.00      1.00         1\n",
      "             Retail       1.00      1.00      1.00         1\n",
      "           Textiles       1.00      1.00      1.00         2\n",
      "          Utilities       1.00      1.00      1.00         1\n",
      "\n",
      "           accuracy                           1.00        20\n",
      "          macro avg       1.00      1.00      1.00        20\n",
      "       weighted avg       1.00      1.00      1.00        20\n",
      "\n"
     ]
    }
   ],
   "source": [
    "from sklearn.svm import LinearSVC\n",
    "\n",
    "svm_model = LinearSVC()\n",
    "svm_model.fit(x_train_resampled, y_train_resampled)\n",
    "y_svm_pred = svm_model.predict(x_test)\n",
    "\n",
    "print(\"Support Vector Machine\")\n",
    "print(\"Accuracy:\", accuracy_score(y_test, y_svm_pred))\n",
    "print(classification_report(y_test, y_svm_pred, target_names=le.classes_))\n"
   ]
  },
  {
   "cell_type": "markdown",
   "id": "83d8a60e-e10a-499d-adb7-373f86baaa0f",
   "metadata": {},
   "source": [
    "###  Cross-Validation for Logistic Regression"
   ]
  },
  {
   "cell_type": "code",
   "execution_count": 37,
   "id": "b9bb5f28-8e45-46a4-b055-acbd471a5b8f",
   "metadata": {},
   "outputs": [
    {
     "name": "stderr",
     "output_type": "stream",
     "text": [
      "C:\\Users\\srswe\\anaconda3\\Lib\\site-packages\\sklearn\\model_selection\\_split.py:776: UserWarning: The least populated class in y has only 3 members, which is less than n_splits=5.\n",
      "  warnings.warn(\n"
     ]
    },
    {
     "name": "stdout",
     "output_type": "stream",
     "text": [
      "Cross-Validation Accuracy Scores: [0.8  0.75 0.8  0.85 0.5 ]\n",
      "Mean CV Accuracy: 0.74\n"
     ]
    }
   ],
   "source": [
    "from sklearn.model_selection import cross_val_score\n",
    "from sklearn.pipeline import make_pipeline\n",
    "from imblearn.over_sampling import RandomOverSampler\n",
    "from imblearn.pipeline import Pipeline as ImbPipeline\n",
    "import numpy as np\n",
    "\n",
    "\n",
    "\n",
    "lr_pipeline = ImbPipeline([\n",
    "    ('oversample', RandomOverSampler(random_state=42)),\n",
    "    ('logreg', LogisticRegression(max_iter=1000))\n",
    "])\n",
    "\n",
    "scores = cross_val_score(lr_pipeline, x, y, cv=5, scoring='accuracy')\n",
    "\n",
    "print(\"Cross-Validation Accuracy Scores:\", scores)\n",
    "print(\"Mean CV Accuracy: {:.2f}\".format(np.mean(scores)))\n",
    "\n"
   ]
  },
  {
   "cell_type": "markdown",
   "id": "e76533b7-71b8-44f4-93cc-a011719c567e",
   "metadata": {},
   "source": [
    "### Cross-Validation for SVM"
   ]
  },
  {
   "cell_type": "code",
   "execution_count": 38,
   "id": "ce04a404-56ee-4c43-afca-b2186c99efd1",
   "metadata": {},
   "outputs": [
    {
     "name": "stderr",
     "output_type": "stream",
     "text": [
      "C:\\Users\\srswe\\anaconda3\\Lib\\site-packages\\sklearn\\model_selection\\_split.py:776: UserWarning: The least populated class in y has only 3 members, which is less than n_splits=5.\n",
      "  warnings.warn(\n"
     ]
    },
    {
     "name": "stdout",
     "output_type": "stream",
     "text": [
      "SVM Cross-Validation Scores: [1. 1. 1. 1. 1.]\n",
      "Mean CV Accuracy: 1.0\n"
     ]
    }
   ],
   "source": [
    "from sklearn.model_selection import cross_val_score\n",
    "\n",
    "\n",
    "svm_pipeline = ImbPipeline([\n",
    "    ('oversample', RandomOverSampler(random_state=42)),\n",
    "    ('svm', LinearSVC())\n",
    "])\n",
    "\n",
    "\n",
    "svm_cv_scores = cross_val_score(svm_pipeline, x, y, cv=5)\n",
    "print(\"SVM Cross-Validation Scores:\", svm_cv_scores)\n",
    "print(\"Mean CV Accuracy:\", svm_cv_scores.mean())\n"
   ]
  },
  {
   "cell_type": "markdown",
   "id": "e72d7f28-a6c3-4cb0-b7e9-b80063c60df1",
   "metadata": {},
   "source": [
    "## Confusion Matrix for SVM"
   ]
  },
  {
   "cell_type": "code",
   "execution_count": 39,
   "id": "c6e258fd-4ee8-4ae5-a2aa-3c948f28a67e",
   "metadata": {},
   "outputs": [
    {
     "data": {
      "image/png": "[encoded data removed]",
      "text/plain": [
       "<Figure size 1800x500 with 6 Axes>"
      ]
     },
     "metadata": {},
     "output_type": "display_data"
    }
   ],
   "source": [
    "import matplotlib.pyplot as plt\n",
    "from sklearn.metrics import confusion_matrix, ConfusionMatrixDisplay\n",
    "\n",
    "# Create subplots\n",
    "fig, axes = plt.subplots(1, 3, figsize=(18, 5))\n",
    "\n",
    "# Naive Bayes\n",
    "ConfusionMatrixDisplay.from_predictions(\n",
    "    y_test, y_nb_pred,\n",
    "    display_labels=le.classes_,\n",
    "    cmap=\"Reds\",\n",
    "    ax=axes[0]\n",
    ")\n",
    "axes[0].set_title(\"Naive Bayes\")\n",
    "\n",
    "# Logistic Regression\n",
    "ConfusionMatrixDisplay.from_predictions(\n",
    "    y_test, y_lr_pred,\n",
    "    display_labels=le.classes_,\n",
    "    cmap=\"Greens\",\n",
    "    ax=axes[1]\n",
    ")\n",
    "axes[1].set_title(\"Logistic Regression\")\n",
    "\n",
    "# SVM\n",
    "ConfusionMatrixDisplay.from_predictions(\n",
    "    y_test, y_svm_pred,\n",
    "    display_labels=le.classes_,\n",
    "    cmap=\"Blues\",\n",
    "    ax=axes[2]\n",
    ")\n",
    "axes[2].set_title(\"SVM (LinearSVC)\")\n",
    "\n",
    "# Final layout\n",
    "plt.tight_layout()\n",
    "plt.show()\n",
    "\n"
   ]
  },
  {
   "cell_type": "markdown",
   "id": "a65a29d7-e028-4d13-8565-80263065c8a0",
   "metadata": {},
   "source": [
    "## Testing Model with New Data"
   ]
  },
  {
   "cell_type": "code",
   "execution_count": 43,
   "id": "0d760a98-f96f-4218-8249-e690b463926c",
   "metadata": {},
   "outputs": [
    {
     "name": "stdout",
     "output_type": "stream",
     "text": [
      "\n",
      " We develop AI-powered diagnostic tools for hospitals and medical research.\n",
      "Logistic Regression → Healthcare\n",
      "SVM (LinearSVC)     → Healthcare\n",
      "\n",
      " Our firm offers cloud infrastructure, DevOps support, and cybersecurity solutions.\n",
      "Logistic Regression → IT Services\n",
      "SVM (LinearSVC)     → IT Services\n",
      "\n",
      " We are one of the leading textile manufacturers and exporters in India.\n",
      "Logistic Regression → Textiles\n",
      "SVM (LinearSVC)     → Textiles\n",
      "\n",
      " Tata Motors, a USD 42 billion organization, is a leading global automobile manufacturer of cars, utility vehicles, pick-ups, trucks and buses.\n",
      "Logistic Regression → Utilities\n",
      "SVM (LinearSVC)     → Utilities\n",
      "\n",
      " Infosys Limited is an Indian multinational technology company that offers business consulting, information technology, and outsourcing services.\n",
      "Logistic Regression → IT Services\n",
      "SVM (LinearSVC)     → IT Services\n"
     ]
    }
   ],
   "source": [
    "# Sample new data\n",
    "new_descriptions = [\n",
    "    \"We develop AI-powered diagnostic tools for hospitals and medical research.\",\n",
    "    \"Our firm offers cloud infrastructure, DevOps support, and cybersecurity solutions.\",\n",
    "    \"We are one of the leading textile manufacturers and exporters in India.\",\n",
    "    \"Tata Motors, a USD 42 billion organization, is a leading global automobile manufacturer of cars, utility vehicles, pick-ups, trucks and buses.\",\n",
    "    \"Infosys Limited is an Indian multinational technology company that offers business consulting, information technology, and outsourcing services.\"\n",
    "]\n",
    "\n",
    "# Tokenize + Lemmatize\n",
    "new_tokens = [tokenize_lemmatize(text) for text in new_descriptions]\n",
    "\n",
    "# Use the original, already-fitted tfidf vectorizer\n",
    "new_vectorized = tfidf.transform(new_tokens)\n",
    "\n",
    "# Predict using trained models\n",
    "lr_preds = lr_model.predict(new_vectorized)\n",
    "svm_preds = svm_model.predict(new_vectorized)\n",
    "\n",
    "# Decode\n",
    "lr_labels = le.inverse_transform(lr_preds)\n",
    "svm_labels = le.inverse_transform(svm_preds)\n",
    "\n",
    "# Display\n",
    "for i, desc in enumerate(new_descriptions):\n",
    "    print(f\"\\n {desc}\")\n",
    "    print(f\"Logistic Regression → {lr_labels[i]}\")\n",
    "    print(f\"SVM (LinearSVC)     → {svm_labels[i]}\")\n"
   ]
  },
  {
   "cell_type": "code",
   "execution_count": 45,
   "id": "518add17-daa0-4979-9efe-5d9a0a7c532c",
   "metadata": {},
   "outputs": [
    {
     "data": {
      "text/plain": [
       "['label_encoder.pkl']"
      ]
     },
     "execution_count": 45,
     "metadata": {},
     "output_type": "execute_result"
    }
   ],
   "source": [
    "import joblib\n",
    "\n",
    "# Save TF-IDF Vectorizer\n",
    "joblib.dump(tfidf, \"tfidf_vectorizer.pkl\")\n",
    "\n",
    "# Save Trained Models\n",
    "joblib.dump(lr_model, \"logreg_model.pkl\")\n",
    "joblib.dump(svm_model, \"svm_model.pkl\")\n",
    "\n",
    "# Save Label Encoder\n",
    "joblib.dump(le, \"label_encoder.pkl\")\n"
   ]
  },
  {
   "cell_type": "code",
   "execution_count": null,
   "id": "4dee021e-c46e-454d-9333-957c06a8b43a",
   "metadata": {},
   "outputs": [],
   "source": []
  }
 ],
 "metadata": {
  "kernelspec": {
   "display_name": "Python [conda env:base] *",
   "language": "python",
   "name": "conda-base-py"
  },
  "language_info": {
   "codemirror_mode": {
    "name": "ipython",
    "version": 3
   },
   "file_extension": ".py",
   "mimetype": "text/x-python",
   "name": "python",
   "nbconvert_exporter": "python",
   "pygments_lexer": "ipython3",
   "version": "3.12.7"
  }
 },
 "nbformat": 4,
 "nbformat_minor": 5
}
